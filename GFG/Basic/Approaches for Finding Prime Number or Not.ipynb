{
 "cells": [
  {
   "cell_type": "markdown",
   "id": "b30c065f-5661-49ec-ad2b-fb5aff4d9a01",
   "metadata": {},
   "source": [
    "## Using Count Variable\n"
   ]
  },
  {
   "cell_type": "markdown",
   "id": "63632956-f7d8-48aa-8582-d176a95a144a",
   "metadata": {},
   "source": [
    "n = int(input())\n",
    "count = 0\n",
    "if n <= 1:\n",
    "    print('Non Prime')\n",
    "else:\n",
    "    for i in range(1,n+1):\n",
    "        if n % i == 0:\n",
    "            count += 1\n",
    "    if count == 2:\n",
    "        print('Prime Number')\n",
    "    else:\n",
    "        print('Non Prime')"
   ]
  },
  {
   "cell_type": "markdown",
   "id": "02a5354d-683a-4a6c-ad15-41dd2691ac8c",
   "metadata": {},
   "source": [
    "## Using Upto sqrt of given number+1\n"
   ]
  },
  {
   "cell_type": "code",
   "execution_count": 22,
   "id": "93455ff9-3f1a-4f33-9933-5713d33edd56",
   "metadata": {},
   "outputs": [
    {
     "name": "stdout",
     "output_type": "stream",
     "text": [
      " 25\n"
     ]
    },
    {
     "name": "stdout",
     "output_type": "stream",
     "text": [
      "Non Prime\n"
     ]
    }
   ],
   "source": [
    "import math\n",
    "n = int(input())\n",
    "if n <= 1:\n",
    "    print('Non Prime')\n",
    "else:\n",
    "    for i in range(2, int(math.sqrt(n) + 1)):\n",
    "        if n % i == 0:\n",
    "            print('Non Prime')\n",
    "            break\n",
    "    else:\n",
    "        print('Prime')\n"
   ]
  },
  {
   "cell_type": "markdown",
   "id": "1868637d-3a3e-4539-87c8-ca829e6c091b",
   "metadata": {},
   "source": [
    "## Using brute force Approach"
   ]
  },
  {
   "cell_type": "code",
   "execution_count": 25,
   "id": "ce5a2e13-5bc4-4bb2-aa1c-3d9416daae56",
   "metadata": {},
   "outputs": [
    {
     "name": "stdout",
     "output_type": "stream",
     "text": [
      " 97\n"
     ]
    },
    {
     "name": "stdout",
     "output_type": "stream",
     "text": [
      "Prime\n"
     ]
    }
   ],
   "source": [
    "n = int(input())\n",
    "if n <= 1:\n",
    "    print('Non Prime')\n",
    "else:\n",
    "    for i in range(2,n):\n",
    "        if n % i == 0:\n",
    "            print('Non Prime')\n",
    "            break\n",
    "    else:\n",
    "        print('Prime')"
   ]
  },
  {
   "cell_type": "markdown",
   "id": "2aa10956-d5f3-455c-800e-8ec36563aa41",
   "metadata": {},
   "source": [
    "## Using (6k+1),(6K-1)\n"
   ]
  },
  {
   "cell_type": "code",
   "execution_count": 31,
   "id": "573f8e8c-9f24-4157-ba2c-86ce26b56356",
   "metadata": {},
   "outputs": [
    {
     "name": "stdout",
     "output_type": "stream",
     "text": [
      " 98\n"
     ]
    },
    {
     "name": "stdout",
     "output_type": "stream",
     "text": [
      "Non  prime\n"
     ]
    }
   ],
   "source": [
    "import math\n",
    "n  = int(input())\n",
    "if n == 2 or n == 3:\n",
    "    print('Prime')\n",
    "if n <= 1 or n % 2 == 0 or n % 3 == 0:\n",
    "    print('Non  prime')\n",
    "else:\n",
    "    for i in range(5,int(math.sqrt(n))+1,6):\n",
    "        if n % i == 0 or n % (i+2) == 0:\n",
    "            print('Non Prime')\n",
    "            break\n",
    "    else:\n",
    "        print('Prime')"
   ]
  }
 ],
 "metadata": {
  "kernelspec": {
   "display_name": "Python 3 (ipykernel)",
   "language": "python",
   "name": "python3"
  },
  "language_info": {
   "codemirror_mode": {
    "name": "ipython",
    "version": 3
   },
   "file_extension": ".py",
   "mimetype": "text/x-python",
   "name": "python",
   "nbconvert_exporter": "python",
   "pygments_lexer": "ipython3",
   "version": "3.12.4"
  }
 },
 "nbformat": 4,
 "nbformat_minor": 5
}
