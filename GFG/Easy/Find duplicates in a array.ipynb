{
 "cells": [
  {
   "cell_type": "code",
   "execution_count": 5,
   "id": "b3f899ca-93dc-4ba6-bfa8-107dfbf9a775",
   "metadata": {},
   "outputs": [
    {
     "name": "stdin",
     "output_type": "stream",
     "text": [
      " 9 9 6 3 2 3 0 7 0 9 1 2 3 2 3 \n"
     ]
    },
    {
     "name": "stdout",
     "output_type": "stream",
     "text": [
      "[0, 2, 3, 9]\n"
     ]
    }
   ],
   "source": [
    "arr = list(map(int,input().split()))\n",
    "duplicate_arr = []\n",
    "for ele in arr:\n",
    "    if arr.count(ele) > 1:\n",
    "        duplicate_arr.append(ele)\n",
    "print(sorted(list(set(duplicate_arr))))\n"
   ]
  },
  {
   "cell_type": "code",
   "execution_count": 6,
   "id": "349f2cde-e3d4-489c-8f4d-23827b90cbf5",
   "metadata": {},
   "outputs": [
    {
     "name": "stdin",
     "output_type": "stream",
     "text": [
      "  9 9 6 3 2 3 0 7 0 9 1 2 3 2 3 \n"
     ]
    },
    {
     "name": "stdout",
     "output_type": "stream",
     "text": [
      "[0, 2, 3, 9]\n"
     ]
    }
   ],
   "source": [
    "arr = list(map(int,input().split()))\n",
    "freq = {}\n",
    "duplicate_arr = []\n",
    "for ele in arr:\n",
    "    if ele in freq:\n",
    "        freq[ele] += 1\n",
    "    else:\n",
    "        freq[ele] = 1\n",
    "for key,val in freq.items():\n",
    "    if val > 1:\n",
    "        duplicate_arr.append(key)\n",
    "print(sorted(list(set(duplicate_arr))))\n",
    "        "
   ]
  },
  {
   "cell_type": "code",
   "execution_count": 8,
   "id": "0930b5ee-a278-4780-b70e-ed561f993226",
   "metadata": {},
   "outputs": [
    {
     "name": "stdin",
     "output_type": "stream",
     "text": [
      " 1 2 3 4 5 6 7 8 9 2\n"
     ]
    },
    {
     "name": "stdout",
     "output_type": "stream",
     "text": [
      "[2]\n"
     ]
    }
   ],
   "source": [
    "arr = list(map(int,input().split()))\n",
    "s = list(set(arr))\n",
    "duplicate_arr = []\n",
    "for ele in s:\n",
    "    if arr.count(ele) > 1:\n",
    "        duplicate_arr.append(ele)\n",
    "print(sorted(list(set(duplicate_arr))))\n",
    "        "
   ]
  },
  {
   "cell_type": "code",
   "execution_count": null,
   "id": "83ae1ba0-6d8a-4f2f-b7f3-aef2f6004505",
   "metadata": {},
   "outputs": [],
   "source": []
  }
 ],
 "metadata": {
  "kernelspec": {
   "display_name": "Python 3 (ipykernel)",
   "language": "python",
   "name": "python3"
  },
  "language_info": {
   "codemirror_mode": {
    "name": "ipython",
    "version": 3
   },
   "file_extension": ".py",
   "mimetype": "text/x-python",
   "name": "python",
   "nbconvert_exporter": "python",
   "pygments_lexer": "ipython3",
   "version": "3.12.4"
  }
 },
 "nbformat": 4,
 "nbformat_minor": 5
}
